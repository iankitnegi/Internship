{
 "cells": [
  {
   "cell_type": "code",
   "execution_count": 1,
   "id": "1af72e2a-5adc-42c9-b911-a3edb27fba65",
   "metadata": {},
   "outputs": [],
   "source": [
    "import pandas as pd\n",
    "import glob"
   ]
  },
  {
   "cell_type": "code",
   "execution_count": 3,
   "id": "86d1637f-efea-4c44-b7f9-836072e5663f",
   "metadata": {},
   "outputs": [],
   "source": [
    "path = r\"C:\\Users\\ankit\\Downloads\\Input_For_Participants\"\n",
    "folder = glob.glob(path+\"/*.csv\")"
   ]
  },
  {
   "cell_type": "code",
   "execution_count": 5,
   "id": "7da75487-5f28-426f-9b5b-b9dfaf6bb78a",
   "metadata": {},
   "outputs": [],
   "source": [
    "list = []\n",
    "for files in folder:\n",
    "    list.append(pd.read_csv(files))\n",
    "    df = pd.concat(list, ignore_index=True)"
   ]
  },
  {
   "cell_type": "code",
   "execution_count": 7,
   "id": "43601002-bc2a-4b0e-b74d-ad6250539b80",
   "metadata": {},
   "outputs": [
    {
     "data": {
      "text/html": [
       "<div>\n",
       "<style scoped>\n",
       "    .dataframe tbody tr th:only-of-type {\n",
       "        vertical-align: middle;\n",
       "    }\n",
       "\n",
       "    .dataframe tbody tr th {\n",
       "        vertical-align: top;\n",
       "    }\n",
       "\n",
       "    .dataframe thead th {\n",
       "        text-align: right;\n",
       "    }\n",
       "</style>\n",
       "<table border=\"1\" class=\"dataframe\">\n",
       "  <thead>\n",
       "    <tr style=\"text-align: right;\">\n",
       "      <th></th>\n",
       "      <th>date</th>\n",
       "      <th>city_code</th>\n",
       "      <th>plans</th>\n",
       "      <th>plan_revenue_crores</th>\n",
       "    </tr>\n",
       "  </thead>\n",
       "  <tbody>\n",
       "    <tr>\n",
       "      <th>0</th>\n",
       "      <td>01-Apr-24</td>\n",
       "      <td>400001</td>\n",
       "      <td>p3</td>\n",
       "      <td>5.60</td>\n",
       "    </tr>\n",
       "    <tr>\n",
       "      <th>1</th>\n",
       "      <td>01-Apr-24</td>\n",
       "      <td>110001</td>\n",
       "      <td>p3</td>\n",
       "      <td>4.66</td>\n",
       "    </tr>\n",
       "    <tr>\n",
       "      <th>2</th>\n",
       "      <td>01-Apr-24</td>\n",
       "      <td>700001</td>\n",
       "      <td>p3</td>\n",
       "      <td>4.51</td>\n",
       "    </tr>\n",
       "    <tr>\n",
       "      <th>3</th>\n",
       "      <td>01-Apr-24</td>\n",
       "      <td>560001</td>\n",
       "      <td>p3</td>\n",
       "      <td>5.13</td>\n",
       "    </tr>\n",
       "    <tr>\n",
       "      <th>4</th>\n",
       "      <td>01-Apr-24</td>\n",
       "      <td>600001</td>\n",
       "      <td>p3</td>\n",
       "      <td>4.53</td>\n",
       "    </tr>\n",
       "  </tbody>\n",
       "</table>\n",
       "</div>"
      ],
      "text/plain": [
       "        date  city_code plans  plan_revenue_crores\n",
       "0  01-Apr-24     400001    p3                 5.60\n",
       "1  01-Apr-24     110001    p3                 4.66\n",
       "2  01-Apr-24     700001    p3                 4.51\n",
       "3  01-Apr-24     560001    p3                 5.13\n",
       "4  01-Apr-24     600001    p3                 4.53"
      ]
     },
     "execution_count": 7,
     "metadata": {},
     "output_type": "execute_result"
    }
   ],
   "source": [
    "df.head()"
   ]
  },
  {
   "cell_type": "code",
   "execution_count": 25,
   "id": "9595dfd3-4c19-47c2-b636-19120bb5b18b",
   "metadata": {},
   "outputs": [
    {
     "data": {
      "text/plain": [
       "581.48"
      ]
     },
     "execution_count": 25,
     "metadata": {},
     "output_type": "execute_result"
    }
   ],
   "source": [
    "df[\"plan_revenue_crores\"].sum().round(2)"
   ]
  },
  {
   "cell_type": "code",
   "execution_count": 52,
   "id": "ad410c6c-abfb-4c53-a705-a1f2f661ab04",
   "metadata": {},
   "outputs": [],
   "source": [
    "df.to_csv(\"Final_Report.csv\", index=True)"
   ]
  }
 ],
 "metadata": {
  "kernelspec": {
   "display_name": "Python 3 (ipykernel)",
   "language": "python",
   "name": "python3"
  },
  "language_info": {
   "codemirror_mode": {
    "name": "ipython",
    "version": 3
   },
   "file_extension": ".py",
   "mimetype": "text/x-python",
   "name": "python",
   "nbconvert_exporter": "python",
   "pygments_lexer": "ipython3",
   "version": "3.12.4"
  }
 },
 "nbformat": 4,
 "nbformat_minor": 5
}
